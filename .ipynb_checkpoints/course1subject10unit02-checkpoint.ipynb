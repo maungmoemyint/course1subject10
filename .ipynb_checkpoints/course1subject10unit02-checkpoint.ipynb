{
 "cells": [
  {
   "cell_type": "markdown",
   "id": "2d8575ed-8d49-49a8-af1d-de08dd5038ac",
   "metadata": {},
   "source": [
    "import numpy as np"
   ]
  },
  {
   "cell_type": "code",
   "execution_count": 1,
   "id": "2afa2078-cb1a-4f63-bcd8-0c77eeb14682",
   "metadata": {},
   "outputs": [],
   "source": [
    "x = [5, 7, -2, 2]\n",
    "y = [4, 5, 12, 0]"
   ]
  },
  {
   "cell_type": "code",
   "execution_count": 2,
   "id": "163e50d6-e33e-40cd-89c0-fd281ef3c7bf",
   "metadata": {},
   "outputs": [
    {
     "data": {
      "text/plain": [
       "[5, 7, -2, 2]"
      ]
     },
     "execution_count": 2,
     "metadata": {},
     "output_type": "execute_result"
    }
   ],
   "source": [
    "x"
   ]
  },
  {
   "cell_type": "code",
   "execution_count": 3,
   "id": "faa8be16-d38b-44b6-9483-cd4b4e8bfb59",
   "metadata": {},
   "outputs": [
    {
     "data": {
      "text/plain": [
       "[4, 5, 12, 0]"
      ]
     },
     "execution_count": 3,
     "metadata": {},
     "output_type": "execute_result"
    }
   ],
   "source": [
    "y"
   ]
  },
  {
   "cell_type": "markdown",
   "id": "6d3354b5-5579-4d92-a4ed-dfb422d3f845",
   "metadata": {},
   "source": [
    "Now, we could perform the multiplications using a for loop as follows:"
   ]
  },
  {
   "cell_type": "code",
   "execution_count": 4,
   "id": "78c78da6-e580-4467-9044-24f3b1040e76",
   "metadata": {},
   "outputs": [
    {
     "data": {
      "text/plain": [
       "[20, 35, -24, 0]"
      ]
     },
     "execution_count": 4,
     "metadata": {},
     "output_type": "execute_result"
    }
   ],
   "source": [
    "product = []\n",
    "for i in range(len(x)):\n",
    "    product.append(x[i] * y[i])\n",
    "product"
   ]
  },
  {
   "cell_type": "markdown",
   "id": "074ff34c-ee54-40ac-9ee8-5e2ae1602367",
   "metadata": {},
   "source": [
    "However, if we store our numbers as arrays, we can get the equivalent result with just\n",
    "one line of code"
   ]
  },
  {
   "cell_type": "code",
   "execution_count": null,
   "id": "40a30c8f-afe6-42e9-a9d3-cd969459a97c",
   "metadata": {},
   "outputs": [],
   "source": []
  }
 ],
 "metadata": {
  "kernelspec": {
   "display_name": "Python 3 (ipykernel)",
   "language": "python",
   "name": "python3"
  },
  "language_info": {
   "codemirror_mode": {
    "name": "ipython",
    "version": 3
   },
   "file_extension": ".py",
   "mimetype": "text/x-python",
   "name": "python",
   "nbconvert_exporter": "python",
   "pygments_lexer": "ipython3",
   "version": "3.9.7"
  }
 },
 "nbformat": 4,
 "nbformat_minor": 5
}
