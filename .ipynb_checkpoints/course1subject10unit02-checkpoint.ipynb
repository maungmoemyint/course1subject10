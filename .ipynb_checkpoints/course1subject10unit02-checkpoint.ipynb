{
 "cells": [
  {
   "cell_type": "code",
   "execution_count": 6,
   "id": "83428305-14ab-414e-8b64-52e88711832c",
   "metadata": {},
   "outputs": [],
   "source": [
    "import numpy as np"
   ]
  },
  {
   "cell_type": "code",
   "execution_count": 1,
   "id": "2afa2078-cb1a-4f63-bcd8-0c77eeb14682",
   "metadata": {},
   "outputs": [],
   "source": [
    "x = [5, 7, -2, 2]\n",
    "y = [4, 5, 12, 0]"
   ]
  },
  {
   "cell_type": "code",
   "execution_count": 2,
   "id": "163e50d6-e33e-40cd-89c0-fd281ef3c7bf",
   "metadata": {},
   "outputs": [
    {
     "data": {
      "text/plain": [
       "[5, 7, -2, 2]"
      ]
     },
     "execution_count": 2,
     "metadata": {},
     "output_type": "execute_result"
    }
   ],
   "source": [
    "x"
   ]
  },
  {
   "cell_type": "code",
   "execution_count": 3,
   "id": "faa8be16-d38b-44b6-9483-cd4b4e8bfb59",
   "metadata": {},
   "outputs": [
    {
     "data": {
      "text/plain": [
       "[4, 5, 12, 0]"
      ]
     },
     "execution_count": 3,
     "metadata": {},
     "output_type": "execute_result"
    }
   ],
   "source": [
    "y"
   ]
  },
  {
   "cell_type": "markdown",
   "id": "6d3354b5-5579-4d92-a4ed-dfb422d3f845",
   "metadata": {},
   "source": [
    "Now, we could perform the multiplications using a for loop as follows:"
   ]
  },
  {
   "cell_type": "code",
   "execution_count": 4,
   "id": "78c78da6-e580-4467-9044-24f3b1040e76",
   "metadata": {},
   "outputs": [
    {
     "data": {
      "text/plain": [
       "[20, 35, -24, 0]"
      ]
     },
     "execution_count": 4,
     "metadata": {},
     "output_type": "execute_result"
    }
   ],
   "source": [
    "product = []\n",
    "for i in range(len(x)):\n",
    "    product.append(x[i] * y[i])\n",
    "product"
   ]
  },
  {
   "cell_type": "markdown",
   "id": "074ff34c-ee54-40ac-9ee8-5e2ae1602367",
   "metadata": {},
   "source": [
    "However, if we store our numbers as arrays, we can get the equivalent result with just\n",
    "one line of code"
   ]
  },
  {
   "cell_type": "code",
   "execution_count": 7,
   "id": "40a30c8f-afe6-42e9-a9d3-cd969459a97c",
   "metadata": {},
   "outputs": [
    {
     "data": {
      "text/plain": [
       "array([ 20,  35, -24,   0])"
      ]
     },
     "execution_count": 7,
     "metadata": {},
     "output_type": "execute_result"
    }
   ],
   "source": [
    "np.array(x) * np.array(y)"
   ]
  },
  {
   "cell_type": "markdown",
   "id": "182a1c4b-14a1-46be-be76-400220c1ff90",
   "metadata": {},
   "source": [
    "A vector is essentially an ordered collection of numbers that are written in a column."
   ]
  },
  {
   "cell_type": "markdown",
   "id": "bc4698e6-4909-4633-a937-f7b155663dfe",
   "metadata": {},
   "source": [
    "Vector and Matrics in Numpy"
   ]
  },
  {
   "cell_type": "code",
   "execution_count": 8,
   "id": "6d96915d-f469-4078-ab58-6d839b593260",
   "metadata": {},
   "outputs": [],
   "source": [
    "# import numpy as np\n",
    "\n",
    "A = np.array([[1, 2], [2, 1]])"
   ]
  },
  {
   "cell_type": "code",
   "execution_count": 9,
   "id": "6aa26b03-a306-4214-872c-1f91b2534416",
   "metadata": {},
   "outputs": [
    {
     "data": {
      "text/plain": [
       "array([[1, 2],\n",
       "       [2, 1]])"
      ]
     },
     "execution_count": 9,
     "metadata": {},
     "output_type": "execute_result"
    }
   ],
   "source": [
    "A"
   ]
  },
  {
   "cell_type": "code",
   "execution_count": 10,
   "id": "bcbd3b36-3fc3-4489-b069-4879b6128c7e",
   "metadata": {},
   "outputs": [],
   "source": [
    "B = np.array([[1, 5], [0, 2]])"
   ]
  },
  {
   "cell_type": "code",
   "execution_count": 11,
   "id": "234d5fd1-58c7-4d6a-b227-df31e1a3d52a",
   "metadata": {},
   "outputs": [
    {
     "data": {
      "text/plain": [
       "array([[1, 5],\n",
       "       [0, 2]])"
      ]
     },
     "execution_count": 11,
     "metadata": {},
     "output_type": "execute_result"
    }
   ],
   "source": [
    "B"
   ]
  },
  {
   "cell_type": "markdown",
   "id": "02f0d968-9e5e-4ca5-bb6a-6b9bff8d4e13",
   "metadata": {},
   "source": [
    "We can then perform addition, subtraction, and multiplication by a scalar. All of these\n",
    "operations behave consistently with the rules of linear algebra. That is, they are\n",
    "performed element-wise. Let’s try this out"
   ]
  },
  {
   "cell_type": "code",
   "execution_count": 12,
   "id": "8da5bfba-c7e4-4971-bdd3-a8437c698de4",
   "metadata": {},
   "outputs": [
    {
     "data": {
      "text/plain": [
       "array([[ 6, 27],\n",
       "       [ 2, 11]])"
      ]
     },
     "execution_count": 12,
     "metadata": {},
     "output_type": "execute_result"
    }
   ],
   "source": [
    "A + 5 * B"
   ]
  },
  {
   "cell_type": "markdown",
   "id": "eabbb100-9011-4045-8456-56cda18a9c60",
   "metadata": {},
   "source": [
    "Matrix multiplication using np.dot()"
   ]
  },
  {
   "cell_type": "code",
   "execution_count": 16,
   "id": "f17adda7-8369-4cc0-b3ef-479bf2992d39",
   "metadata": {},
   "outputs": [
    {
     "data": {
      "text/plain": [
       "array([[ 1, 10],\n",
       "       [ 0,  2]])"
      ]
     },
     "execution_count": 16,
     "metadata": {},
     "output_type": "execute_result"
    }
   ],
   "source": [
    "A * B # Element wise hadamard product, Not matrice product"
   ]
  },
  {
   "cell_type": "code",
   "execution_count": 17,
   "id": "673c4089-76b5-4273-8e5e-4ab5a5a26d97",
   "metadata": {},
   "outputs": [
    {
     "data": {
      "text/plain": [
       "array([[ 1,  9],\n",
       "       [ 2, 12]])"
      ]
     },
     "execution_count": 17,
     "metadata": {},
     "output_type": "execute_result"
    }
   ],
   "source": [
    "np.dot(A, B) # Matrix multiplication"
   ]
  },
  {
   "cell_type": "markdown",
   "id": "222d09e2-3882-4af4-90f3-938f89ca09cd",
   "metadata": {},
   "source": [
    "### Vectors as one-dimensional arrays\n",
    "When representing vectors in NumPy, we have several choices. Perhaps the most natural\n",
    "way to represent them is using a one-dimensional array. "
   ]
  },
  {
   "cell_type": "code",
   "execution_count": 18,
   "id": "4b16160a-8823-4c07-a45e-049eefed9a51",
   "metadata": {},
   "outputs": [],
   "source": [
    "a = np.array([0, 1, 2])"
   ]
  },
  {
   "cell_type": "code",
   "execution_count": 19,
   "id": "56d117b4-5507-488d-b462-bb96037f7dbb",
   "metadata": {},
   "outputs": [
    {
     "data": {
      "text/plain": [
       "array([0, 1, 2])"
      ]
     },
     "execution_count": 19,
     "metadata": {},
     "output_type": "execute_result"
    }
   ],
   "source": [
    "a"
   ]
  },
  {
   "cell_type": "markdown",
   "id": "b8b56c59-cc04-48c3-8e1c-44965a090653",
   "metadata": {},
   "source": [
    "There is, however, a potential pitfall with this choice. In NumPy, there is no distinction\n",
    "between a vector and its transpose (using the .T notation in Python), they are both the\n",
    "same one-dimensional array."
   ]
  },
  {
   "cell_type": "code",
   "execution_count": 20,
   "id": "56b64eb2-3d23-4305-8f00-e09ac9e5fe46",
   "metadata": {},
   "outputs": [
    {
     "data": {
      "text/plain": [
       "array([0, 1, 2])"
      ]
     },
     "execution_count": 20,
     "metadata": {},
     "output_type": "execute_result"
    }
   ],
   "source": [
    "a.T"
   ]
  },
  {
   "cell_type": "code",
   "execution_count": null,
   "id": "6cc1936f-7c28-4708-b1d1-0607b4f6e9f8",
   "metadata": {},
   "outputs": [],
   "source": []
  }
 ],
 "metadata": {
  "kernelspec": {
   "display_name": "Python 3 (ipykernel)",
   "language": "python",
   "name": "python3"
  },
  "language_info": {
   "codemirror_mode": {
    "name": "ipython",
    "version": 3
   },
   "file_extension": ".py",
   "mimetype": "text/x-python",
   "name": "python",
   "nbconvert_exporter": "python",
   "pygments_lexer": "ipython3",
   "version": "3.9.7"
  }
 },
 "nbformat": 4,
 "nbformat_minor": 5
}
