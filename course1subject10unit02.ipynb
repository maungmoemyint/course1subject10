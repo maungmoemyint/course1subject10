{
 "cells": [
  {
   "cell_type": "code",
   "execution_count": 1,
   "id": "83428305-14ab-414e-8b64-52e88711832c",
   "metadata": {},
   "outputs": [],
   "source": [
    "import numpy as np"
   ]
  },
  {
   "cell_type": "code",
   "execution_count": 1,
   "id": "2afa2078-cb1a-4f63-bcd8-0c77eeb14682",
   "metadata": {},
   "outputs": [],
   "source": [
    "x = [5, 7, -2, 2]\n",
    "y = [4, 5, 12, 0]"
   ]
  },
  {
   "cell_type": "code",
   "execution_count": 2,
   "id": "163e50d6-e33e-40cd-89c0-fd281ef3c7bf",
   "metadata": {},
   "outputs": [
    {
     "data": {
      "text/plain": [
       "[5, 7, -2, 2]"
      ]
     },
     "execution_count": 2,
     "metadata": {},
     "output_type": "execute_result"
    }
   ],
   "source": [
    "x"
   ]
  },
  {
   "cell_type": "code",
   "execution_count": 3,
   "id": "faa8be16-d38b-44b6-9483-cd4b4e8bfb59",
   "metadata": {},
   "outputs": [
    {
     "data": {
      "text/plain": [
       "[4, 5, 12, 0]"
      ]
     },
     "execution_count": 3,
     "metadata": {},
     "output_type": "execute_result"
    }
   ],
   "source": [
    "y"
   ]
  },
  {
   "cell_type": "markdown",
   "id": "6d3354b5-5579-4d92-a4ed-dfb422d3f845",
   "metadata": {},
   "source": [
    "Now, we could perform the multiplications using a for loop as follows:"
   ]
  },
  {
   "cell_type": "code",
   "execution_count": 4,
   "id": "78c78da6-e580-4467-9044-24f3b1040e76",
   "metadata": {},
   "outputs": [
    {
     "data": {
      "text/plain": [
       "[20, 35, -24, 0]"
      ]
     },
     "execution_count": 4,
     "metadata": {},
     "output_type": "execute_result"
    }
   ],
   "source": [
    "product = []\n",
    "for i in range(len(x)):\n",
    "    product.append(x[i] * y[i])\n",
    "product"
   ]
  },
  {
   "cell_type": "markdown",
   "id": "074ff34c-ee54-40ac-9ee8-5e2ae1602367",
   "metadata": {},
   "source": [
    "However, if we store our numbers as arrays, we can get the equivalent result with just\n",
    "one line of code"
   ]
  },
  {
   "cell_type": "code",
   "execution_count": 7,
   "id": "40a30c8f-afe6-42e9-a9d3-cd969459a97c",
   "metadata": {},
   "outputs": [
    {
     "data": {
      "text/plain": [
       "array([ 20,  35, -24,   0])"
      ]
     },
     "execution_count": 7,
     "metadata": {},
     "output_type": "execute_result"
    }
   ],
   "source": [
    "np.array(x) * np.array(y)"
   ]
  },
  {
   "cell_type": "markdown",
   "id": "182a1c4b-14a1-46be-be76-400220c1ff90",
   "metadata": {},
   "source": [
    "A vector is essentially an ordered collection of numbers that are written in a column."
   ]
  },
  {
   "cell_type": "markdown",
   "id": "bc4698e6-4909-4633-a937-f7b155663dfe",
   "metadata": {},
   "source": [
    "Vector and Matrics in Numpy"
   ]
  },
  {
   "cell_type": "code",
   "execution_count": 8,
   "id": "6d96915d-f469-4078-ab58-6d839b593260",
   "metadata": {},
   "outputs": [],
   "source": [
    "# import numpy as np\n",
    "\n",
    "A = np.array([[1, 2], [2, 1]])"
   ]
  },
  {
   "cell_type": "code",
   "execution_count": 9,
   "id": "6aa26b03-a306-4214-872c-1f91b2534416",
   "metadata": {},
   "outputs": [
    {
     "data": {
      "text/plain": [
       "array([[1, 2],\n",
       "       [2, 1]])"
      ]
     },
     "execution_count": 9,
     "metadata": {},
     "output_type": "execute_result"
    }
   ],
   "source": [
    "A"
   ]
  },
  {
   "cell_type": "code",
   "execution_count": 10,
   "id": "bcbd3b36-3fc3-4489-b069-4879b6128c7e",
   "metadata": {},
   "outputs": [],
   "source": [
    "B = np.array([[1, 5], [0, 2]])"
   ]
  },
  {
   "cell_type": "code",
   "execution_count": 11,
   "id": "234d5fd1-58c7-4d6a-b227-df31e1a3d52a",
   "metadata": {},
   "outputs": [
    {
     "data": {
      "text/plain": [
       "array([[1, 5],\n",
       "       [0, 2]])"
      ]
     },
     "execution_count": 11,
     "metadata": {},
     "output_type": "execute_result"
    }
   ],
   "source": [
    "B"
   ]
  },
  {
   "cell_type": "markdown",
   "id": "02f0d968-9e5e-4ca5-bb6a-6b9bff8d4e13",
   "metadata": {},
   "source": [
    "We can then perform addition, subtraction, and multiplication by a scalar. All of these\n",
    "operations behave consistently with the rules of linear algebra. That is, they are\n",
    "performed element-wise. Let’s try this out"
   ]
  },
  {
   "cell_type": "code",
   "execution_count": 12,
   "id": "8da5bfba-c7e4-4971-bdd3-a8437c698de4",
   "metadata": {},
   "outputs": [
    {
     "data": {
      "text/plain": [
       "array([[ 6, 27],\n",
       "       [ 2, 11]])"
      ]
     },
     "execution_count": 12,
     "metadata": {},
     "output_type": "execute_result"
    }
   ],
   "source": [
    "A + 5 * B"
   ]
  },
  {
   "cell_type": "markdown",
   "id": "eabbb100-9011-4045-8456-56cda18a9c60",
   "metadata": {},
   "source": [
    "Matrix multiplication using np.dot()"
   ]
  },
  {
   "cell_type": "code",
   "execution_count": 16,
   "id": "f17adda7-8369-4cc0-b3ef-479bf2992d39",
   "metadata": {},
   "outputs": [
    {
     "data": {
      "text/plain": [
       "array([[ 1, 10],\n",
       "       [ 0,  2]])"
      ]
     },
     "execution_count": 16,
     "metadata": {},
     "output_type": "execute_result"
    }
   ],
   "source": [
    "A * B # Element wise hadamard product, Not matrice product"
   ]
  },
  {
   "cell_type": "code",
   "execution_count": 17,
   "id": "673c4089-76b5-4273-8e5e-4ab5a5a26d97",
   "metadata": {},
   "outputs": [
    {
     "data": {
      "text/plain": [
       "array([[ 1,  9],\n",
       "       [ 2, 12]])"
      ]
     },
     "execution_count": 17,
     "metadata": {},
     "output_type": "execute_result"
    }
   ],
   "source": [
    "np.dot(A, B) # Matrix multiplication"
   ]
  },
  {
   "cell_type": "markdown",
   "id": "222d09e2-3882-4af4-90f3-938f89ca09cd",
   "metadata": {},
   "source": [
    "### Vectors as one-dimensional arrays\n",
    "When representing vectors in NumPy, we have several choices. Perhaps the most natural\n",
    "way to represent them is using a one-dimensional array. "
   ]
  },
  {
   "cell_type": "code",
   "execution_count": 18,
   "id": "4b16160a-8823-4c07-a45e-049eefed9a51",
   "metadata": {},
   "outputs": [],
   "source": [
    "a = np.array([0, 1, 2])"
   ]
  },
  {
   "cell_type": "code",
   "execution_count": 19,
   "id": "56d117b4-5507-488d-b462-bb96037f7dbb",
   "metadata": {},
   "outputs": [
    {
     "data": {
      "text/plain": [
       "array([0, 1, 2])"
      ]
     },
     "execution_count": 19,
     "metadata": {},
     "output_type": "execute_result"
    }
   ],
   "source": [
    "a"
   ]
  },
  {
   "cell_type": "markdown",
   "id": "b8b56c59-cc04-48c3-8e1c-44965a090653",
   "metadata": {},
   "source": [
    "There is, however, a potential pitfall with this choice. In NumPy, there is no distinction\n",
    "between a vector and its transpose (using the .T notation in Python), they are both the\n",
    "same one-dimensional array."
   ]
  },
  {
   "cell_type": "code",
   "execution_count": 20,
   "id": "56b64eb2-3d23-4305-8f00-e09ac9e5fe46",
   "metadata": {},
   "outputs": [
    {
     "data": {
      "text/plain": [
       "array([0, 1, 2])"
      ]
     },
     "execution_count": 20,
     "metadata": {},
     "output_type": "execute_result"
    }
   ],
   "source": [
    "a.T"
   ]
  },
  {
   "cell_type": "markdown",
   "id": "8f0261dd-5f38-4f99-9497-e7fe2139447e",
   "metadata": {},
   "source": [
    "This means in particular that we can multiply together a vector by itself"
   ]
  },
  {
   "cell_type": "code",
   "execution_count": 21,
   "id": "950b734e-b009-4dbf-98c7-5727007959b1",
   "metadata": {},
   "outputs": [
    {
     "data": {
      "text/plain": [
       "5"
      ]
     },
     "execution_count": 21,
     "metadata": {},
     "output_type": "execute_result"
    }
   ],
   "source": [
    "np.dot(a, a)"
   ]
  },
  {
   "cell_type": "markdown",
   "id": "789cb45c-efca-4d4a-9cda-7b1f763a8b0e",
   "metadata": {},
   "source": [
    "This is actually what we would expect to get using the operation a⊤a\n",
    ". Now this is not\n",
    "necessarily a problem as long as we are aware of this behavior. But what if we wanted to\n",
    "actually work with a⊤ a\n",
    ", the actual row vector. We would then have to define as a two-\n",
    "dimensional array with shape (3, 1)\n",
    "as follows:"
   ]
  },
  {
   "cell_type": "code",
   "execution_count": 22,
   "id": "2b1de5ed-2d37-4037-8aef-f0f09cc5d00b",
   "metadata": {},
   "outputs": [],
   "source": [
    "b = np.array([[0], [1], [2]])"
   ]
  },
  {
   "cell_type": "code",
   "execution_count": 23,
   "id": "baa42571-4be2-48e0-aa68-a6180a3ed660",
   "metadata": {},
   "outputs": [
    {
     "data": {
      "text/plain": [
       "array([[0],\n",
       "       [1],\n",
       "       [2]])"
      ]
     },
     "execution_count": 23,
     "metadata": {},
     "output_type": "execute_result"
    }
   ],
   "source": [
    "b"
   ]
  },
  {
   "cell_type": "markdown",
   "id": "f04d7a63-f079-4faa-80b1-9ecdc339b4fc",
   "metadata": {},
   "source": [
    "Essentially this is the same vector, but choosing to represent it using a two-dimensional\n",
    "array in NumPy changes the way that operations such as the transpose and matrix\n",
    "multiplication behave. In particular, the transpose is now clearly distinguished"
   ]
  },
  {
   "cell_type": "code",
   "execution_count": 24,
   "id": "39f73b2f-6c96-434f-afe5-089f4ba3aaee",
   "metadata": {},
   "outputs": [
    {
     "data": {
      "text/plain": [
       "array([[0, 1, 2]])"
      ]
     },
     "execution_count": 24,
     "metadata": {},
     "output_type": "execute_result"
    }
   ],
   "source": [
    "b.T"
   ]
  },
  {
   "cell_type": "code",
   "execution_count": 25,
   "id": "d793d5ac-5e1a-4d22-a8f4-a56bc67e2734",
   "metadata": {},
   "outputs": [
    {
     "data": {
      "text/plain": [
       "(3, 1)"
      ]
     },
     "execution_count": 25,
     "metadata": {},
     "output_type": "execute_result"
    }
   ],
   "source": [
    "b.shape"
   ]
  },
  {
   "cell_type": "code",
   "execution_count": 26,
   "id": "17ec9e28-0a81-4438-8ee0-eaeec18ff9cb",
   "metadata": {},
   "outputs": [
    {
     "data": {
      "text/plain": [
       "(1, 3)"
      ]
     },
     "execution_count": 26,
     "metadata": {},
     "output_type": "execute_result"
    }
   ],
   "source": [
    "b.T.shape"
   ]
  },
  {
   "cell_type": "markdown",
   "id": "95a00afb-1ee7-4bcd-99c1-d7f734d398c0",
   "metadata": {},
   "source": [
    "Note that now we can no longer multiply of multiplying a (3, 1) (3, 1)\n",
    "matrix by a b\n",
    "by itself because that would be the equivalent\n",
    "matrix and the dimensions are not compatible:"
   ]
  },
  {
   "cell_type": "code",
   "execution_count": null,
   "id": "f73456e5-d1b4-4894-aaad-4fab453f30b7",
   "metadata": {},
   "outputs": [],
   "source": [
    "np.dot(b, b) # Error"
   ]
  },
  {
   "cell_type": "markdown",
   "id": "dd426635-3ed2-4ddc-8b4c-3b95e01446df",
   "metadata": {},
   "source": [
    "We can, however, compute and\n",
    "b⊤b bb⊤"
   ]
  },
  {
   "cell_type": "code",
   "execution_count": 28,
   "id": "8e11f4d7-c46c-47a1-9b47-210eacb7d215",
   "metadata": {},
   "outputs": [
    {
     "data": {
      "text/plain": [
       "array([[5]])"
      ]
     },
     "execution_count": 28,
     "metadata": {},
     "output_type": "execute_result"
    }
   ],
   "source": [
    "np.dot(b.T, b)"
   ]
  },
  {
   "cell_type": "code",
   "execution_count": 29,
   "id": "ac1ed8a9-a064-4d96-b2db-395a2857bbdc",
   "metadata": {},
   "outputs": [
    {
     "data": {
      "text/plain": [
       "array([[0, 0, 0],\n",
       "       [0, 1, 2],\n",
       "       [0, 2, 4]])"
      ]
     },
     "execution_count": 29,
     "metadata": {},
     "output_type": "execute_result"
    }
   ],
   "source": [
    "np.dot(b, b.T)"
   ]
  },
  {
   "cell_type": "markdown",
   "id": "191815a5-e9b3-4514-bcbf-9bf7ab46cb19",
   "metadata": {},
   "source": [
    "And the results are as expected. Note in particular that both results are returned as two-\n",
    "dimensional arrays."
   ]
  },
  {
   "cell_type": "markdown",
   "id": "d76c08e7-1e93-4996-b90f-2d5a70efc359",
   "metadata": {},
   "source": [
    "#### NumPy broadcasting revisited\n",
    "When computing operations between two-dimensional arrays in NumPy, we have a\n",
    "much wider range of possibilities than in conventional linear algebra due to the\n",
    "broadcasting concept that you were introduced to before. "
   ]
  },
  {
   "cell_type": "code",
   "execution_count": 30,
   "id": "6eea9423-e88f-429d-985b-ae0efba0b46a",
   "metadata": {},
   "outputs": [],
   "source": [
    "a = np.array([[0], [7]])\n",
    "b = np.array([[1, 2], [0, 6]])\n",
    "c = np.array([[2, 2]])"
   ]
  },
  {
   "cell_type": "code",
   "execution_count": 31,
   "id": "05c1a79e-b752-4346-aafe-ec31c50fce03",
   "metadata": {},
   "outputs": [
    {
     "data": {
      "text/plain": [
       "array([[0],\n",
       "       [7]])"
      ]
     },
     "execution_count": 31,
     "metadata": {},
     "output_type": "execute_result"
    }
   ],
   "source": [
    "a"
   ]
  },
  {
   "cell_type": "code",
   "execution_count": 32,
   "id": "8d3c763d-ae13-4ec6-9d3b-24e965b37781",
   "metadata": {},
   "outputs": [
    {
     "data": {
      "text/plain": [
       "(2, 1)"
      ]
     },
     "execution_count": 32,
     "metadata": {},
     "output_type": "execute_result"
    }
   ],
   "source": [
    "a.shape"
   ]
  },
  {
   "cell_type": "code",
   "execution_count": 33,
   "id": "2848bc84-e3ce-46bc-b6a5-ae13aaca0fb9",
   "metadata": {},
   "outputs": [
    {
     "data": {
      "text/plain": [
       "(2, 2)"
      ]
     },
     "execution_count": 33,
     "metadata": {},
     "output_type": "execute_result"
    }
   ],
   "source": [
    "b.shape"
   ]
  },
  {
   "cell_type": "code",
   "execution_count": 34,
   "id": "19334483-10ad-4c2e-91b9-e13c0aeff32a",
   "metadata": {},
   "outputs": [
    {
     "data": {
      "text/plain": [
       "(1, 2)"
      ]
     },
     "execution_count": 34,
     "metadata": {},
     "output_type": "execute_result"
    }
   ],
   "source": [
    "c.shape"
   ]
  },
  {
   "cell_type": "code",
   "execution_count": 35,
   "id": "f8263d37-aaae-4417-967f-1b4ba2c891bd",
   "metadata": {},
   "outputs": [
    {
     "data": {
      "text/plain": [
       "array([[0],\n",
       "       [7]])"
      ]
     },
     "execution_count": 35,
     "metadata": {},
     "output_type": "execute_result"
    }
   ],
   "source": [
    "a"
   ]
  },
  {
   "cell_type": "code",
   "execution_count": 36,
   "id": "bc074356-b743-497b-a650-53e0fe9d72a2",
   "metadata": {},
   "outputs": [
    {
     "data": {
      "text/plain": [
       "array([[2, 2]])"
      ]
     },
     "execution_count": 36,
     "metadata": {},
     "output_type": "execute_result"
    }
   ],
   "source": [
    "c"
   ]
  },
  {
   "cell_type": "code",
   "execution_count": 37,
   "id": "c35a8d8c-b207-4305-9ea9-1b2cc2d0173b",
   "metadata": {},
   "outputs": [
    {
     "data": {
      "text/plain": [
       "array([[2, 2],\n",
       "       [9, 9]])"
      ]
     },
     "execution_count": 37,
     "metadata": {},
     "output_type": "execute_result"
    }
   ],
   "source": [
    "a+c"
   ]
  },
  {
   "cell_type": "code",
   "execution_count": 38,
   "id": "b8d1116e-7e35-4875-9c9a-91fd69665574",
   "metadata": {},
   "outputs": [
    {
     "data": {
      "text/plain": [
       "array([[ 0,  0],\n",
       "       [ 0, 42]])"
      ]
     },
     "execution_count": 38,
     "metadata": {},
     "output_type": "execute_result"
    }
   ],
   "source": [
    "a*b"
   ]
  },
  {
   "cell_type": "markdown",
   "id": "8bd72618-3e39-4943-8610-8609e752f75b",
   "metadata": {},
   "source": [
    "It is important to remember that broadcasting is always done element-wise!"
   ]
  },
  {
   "cell_type": "markdown",
   "id": "3111c8df-0547-4a87-9537-71ec5c70a770",
   "metadata": {},
   "source": [
    "Linalg Module"
   ]
  },
  {
   "cell_type": "code",
   "execution_count": 2,
   "id": "f2f9eb69-1709-4dd2-a08e-1e05c393b584",
   "metadata": {},
   "outputs": [],
   "source": [
    "# import numpy as np\n",
    "\n",
    "A = np.array([[3, 4], [2, 3]])"
   ]
  },
  {
   "cell_type": "code",
   "execution_count": 3,
   "id": "f97f0141-8c4c-48d9-bac6-0d5ae603275a",
   "metadata": {},
   "outputs": [
    {
     "data": {
      "text/plain": [
       "array([[3, 4],\n",
       "       [2, 3]])"
      ]
     },
     "execution_count": 3,
     "metadata": {},
     "output_type": "execute_result"
    }
   ],
   "source": [
    "A"
   ]
  },
  {
   "cell_type": "code",
   "execution_count": 4,
   "id": "1d4072d4-f1d1-464f-8e72-810737fe4621",
   "metadata": {},
   "outputs": [
    {
     "data": {
      "text/plain": [
       "array([[3, 2],\n",
       "       [4, 3]])"
      ]
     },
     "execution_count": 4,
     "metadata": {},
     "output_type": "execute_result"
    }
   ],
   "source": [
    "A.T"
   ]
  },
  {
   "cell_type": "code",
   "execution_count": null,
   "id": "78059b33-f299-493f-a72e-d1a99850e682",
   "metadata": {},
   "outputs": [],
   "source": []
  }
 ],
 "metadata": {
  "kernelspec": {
   "display_name": "Python 3 (ipykernel)",
   "language": "python",
   "name": "python3"
  },
  "language_info": {
   "codemirror_mode": {
    "name": "ipython",
    "version": 3
   },
   "file_extension": ".py",
   "mimetype": "text/x-python",
   "name": "python",
   "nbconvert_exporter": "python",
   "pygments_lexer": "ipython3",
   "version": "3.9.7"
  }
 },
 "nbformat": 4,
 "nbformat_minor": 5
}
